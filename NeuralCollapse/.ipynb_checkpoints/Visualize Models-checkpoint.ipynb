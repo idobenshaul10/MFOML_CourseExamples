{
 "cells": [
  {
   "cell_type": "code",
   "execution_count": 1,
   "id": "eead10ae",
   "metadata": {},
   "outputs": [],
   "source": [
    "import torch \n",
    "import torch.nn as nn\n",
    "from pytorch_grad_cam import GradCAM, ScoreCAM, GradCAMPlusPlus, AblationCAM, XGradCAM, EigenCAM\n",
    "from pytorch_grad_cam.utils.image import show_cam_on_image\n",
    "from torchvision.models import resnet18\n",
    "import pickle\n",
    "from torchvision import models\n",
    "from torchvision import datasets, transforms\n",
    "import cv2\n",
    "import numpy as np\n",
    "import matplotlib.pyplot as plt"
   ]
  },
  {
   "cell_type": "code",
   "execution_count": 2,
   "id": "a65850a8",
   "metadata": {},
   "outputs": [],
   "source": [
    "conf = pickle.load(open(\"configs/CIFAR100_Resnet50.p\", \"rb\"))\n",
    "\n",
    "\n",
    "# model = model.to(device)"
   ]
  },
  {
   "cell_type": "code",
   "execution_count": 67,
   "id": "0e991b08",
   "metadata": {},
   "outputs": [],
   "source": [
    "def load_model(path):\n",
    "    model = eval(f\"models.{conf['model_conf']['model_name']}(pretrained=False, num_classes={conf['C']})\")\n",
    "#     model.conv1 = nn.Conv2d(conf['input_ch'], model.conv1.weight.shape[0], 3, 1, 1,\n",
    "#             bias=False)  # Small dataset filter size used by He et al. (2015)\n",
    "\n",
    "#     model.maxpool = nn.MaxPool2d(kernel_size=1, stride=1, padding=0)\n",
    "    model.load_state_dict(torch.load(path))\n",
    "    target_layers = [model.layer3[-1]]\n",
    "    cam = GradCAM(model=model, target_layers=target_layers, use_cuda=True)\n",
    "\n",
    "    return model, cam"
   ]
  },
  {
   "cell_type": "code",
   "execution_count": 68,
   "id": "bea7aec4",
   "metadata": {},
   "outputs": [],
   "source": [
    "# path = \"models/MNIST_RESNET18_model_custom_loss.h\"\n",
    "path_1 = \"models/CIFAR100_resnet50_False.h\"\n",
    "model_1, cam_1 = load_model(path_1)\n",
    "\n",
    "# path_2 = \"models/MNIST_RESNET18_model_custom_loss.h\"\n",
    "# model_2, cam_2 = load_model(path_2)"
   ]
  },
  {
   "cell_type": "code",
   "execution_count": 52,
   "id": "7cd802ba",
   "metadata": {},
   "outputs": [
    {
     "name": "stdout",
     "output_type": "stream",
     "text": [
      "Files already downloaded and verified\n",
      "Files already downloaded and verified\n"
     ]
    }
   ],
   "source": [
    "transform = transforms.Compose([transforms.Pad((conf['padded_im_size'] - conf['im_size'])//2),\n",
    "                                transforms.ToTensor(),\n",
    "                                transforms.Normalize((0.4914, 0.4822, 0.4466), (0.2470, 0.2435, 0.2616))])\n",
    "real_dataset = eval(f'datasets.{conf[\"dataset\"]}(\"../data\", train=False, download=True)')\n",
    "test_dataset = eval(f'datasets.{conf[\"dataset\"]}(\"../data\", train=False, download=True, transform=transform)')"
   ]
  },
  {
   "cell_type": "code",
   "execution_count": 77,
   "id": "02f79210",
   "metadata": {},
   "outputs": [],
   "source": [
    "def vis_example(item, cam):\n",
    "    target_category = item[1]\n",
    "#     target_category = 7\n",
    "    input_tensor = item[0].unsqueeze(0)\n",
    "    grayscale_cam = cam(input_tensor=input_tensor, target_category=target_category)\n",
    "\n",
    "    # In this example grayscale_cam has only one image in the batch:\n",
    "    grayscale_cam = grayscale_cam[0, :]\n",
    "    input = item[0].numpy()\n",
    "    input_min, input_max = input.min(), input.max()\n",
    "    input = (input - input_min)/(input_max - input_min).squeeze()\n",
    "    \n",
    "    # R = np.zeros((32,32, 3))\n",
    "    # R[:,:,0] = input\n",
    "    print(f\"input:{input.shape}, grayscale_cam:{grayscale_cam.shape}\")\n",
    "    cam_image = show_cam_on_image(input.reshape(32, 32, 3), grayscale_cam, use_rgb=True)\n",
    "    print(cam_image.shape)\n",
    "    cam_image = cam_image[:,:,::-1]\n",
    "    plt.imshow(cam_image)\n"
   ]
  },
  {
   "cell_type": "code",
   "execution_count": 78,
   "id": "2fac241f",
   "metadata": {},
   "outputs": [
    {
     "name": "stdout",
     "output_type": "stream",
     "text": [
      "input:(3, 32, 32), grayscale_cam:(1, 32, 32)\n"
     ]
    },
    {
     "ename": "error",
     "evalue": "OpenCV(4.5.4) /tmp/pip-req-build-kv0l0wqx/opencv/modules/imgproc/src/colormap.cpp:736: error: (-5:Bad argument) cv::ColorMap only supports source images of type CV_8UC1 or CV_8UC3 in function 'operator()'\n",
     "output_type": "error",
     "traceback": [
      "\u001b[0;31m---------------------------------------------------------------------------\u001b[0m",
      "\u001b[0;31merror\u001b[0m                                     Traceback (most recent call last)",
      "\u001b[0;32m/tmp/ipykernel_371227/361928877.py\u001b[0m in \u001b[0;36m<module>\u001b[0;34m\u001b[0m\n\u001b[0;32m----> 1\u001b[0;31m \u001b[0mvis_example\u001b[0m\u001b[0;34m(\u001b[0m\u001b[0mtest_dataset\u001b[0m\u001b[0;34m[\u001b[0m\u001b[0;36m96\u001b[0m\u001b[0;34m]\u001b[0m\u001b[0;34m,\u001b[0m \u001b[0mcam_1\u001b[0m\u001b[0;34m)\u001b[0m\u001b[0;34m\u001b[0m\u001b[0;34m\u001b[0m\u001b[0m\n\u001b[0m",
      "\u001b[0;32m/tmp/ipykernel_371227/2397667152.py\u001b[0m in \u001b[0;36mvis_example\u001b[0;34m(item, cam)\u001b[0m\n\u001b[1;32m     14\u001b[0m     \u001b[0;31m# R[:,:,0] = input\u001b[0m\u001b[0;34m\u001b[0m\u001b[0;34m\u001b[0m\u001b[0m\n\u001b[1;32m     15\u001b[0m     \u001b[0mprint\u001b[0m\u001b[0;34m(\u001b[0m\u001b[0;34mf\"input:{input.shape}, grayscale_cam:{grayscale_cam.shape}\"\u001b[0m\u001b[0;34m)\u001b[0m\u001b[0;34m\u001b[0m\u001b[0;34m\u001b[0m\u001b[0m\n\u001b[0;32m---> 16\u001b[0;31m     \u001b[0mcam_image\u001b[0m \u001b[0;34m=\u001b[0m \u001b[0mshow_cam_on_image\u001b[0m\u001b[0;34m(\u001b[0m\u001b[0minput\u001b[0m\u001b[0;34m.\u001b[0m\u001b[0mreshape\u001b[0m\u001b[0;34m(\u001b[0m\u001b[0;36m32\u001b[0m\u001b[0;34m,\u001b[0m \u001b[0;36m32\u001b[0m\u001b[0;34m,\u001b[0m \u001b[0;36m3\u001b[0m\u001b[0;34m)\u001b[0m\u001b[0;34m,\u001b[0m \u001b[0mgrayscale_cam\u001b[0m\u001b[0;34m,\u001b[0m \u001b[0muse_rgb\u001b[0m\u001b[0;34m=\u001b[0m\u001b[0;32mTrue\u001b[0m\u001b[0;34m)\u001b[0m\u001b[0;34m\u001b[0m\u001b[0;34m\u001b[0m\u001b[0m\n\u001b[0m\u001b[1;32m     17\u001b[0m     \u001b[0mprint\u001b[0m\u001b[0;34m(\u001b[0m\u001b[0mcam_image\u001b[0m\u001b[0;34m.\u001b[0m\u001b[0mshape\u001b[0m\u001b[0;34m)\u001b[0m\u001b[0;34m\u001b[0m\u001b[0;34m\u001b[0m\u001b[0m\n\u001b[1;32m     18\u001b[0m     \u001b[0mcam_image\u001b[0m \u001b[0;34m=\u001b[0m \u001b[0mcam_image\u001b[0m\u001b[0;34m[\u001b[0m\u001b[0;34m:\u001b[0m\u001b[0;34m,\u001b[0m\u001b[0;34m:\u001b[0m\u001b[0;34m,\u001b[0m\u001b[0;34m:\u001b[0m\u001b[0;34m:\u001b[0m\u001b[0;34m-\u001b[0m\u001b[0;36m1\u001b[0m\u001b[0;34m]\u001b[0m\u001b[0;34m\u001b[0m\u001b[0;34m\u001b[0m\u001b[0m\n",
      "\u001b[0;32m~/miniconda3/envs/torch_main/lib/python3.9/site-packages/pytorch_grad_cam/utils/image.py\u001b[0m in \u001b[0;36mshow_cam_on_image\u001b[0;34m(img, mask, use_rgb, colormap)\u001b[0m\n\u001b[1;32m     36\u001b[0m     \u001b[0;34m:\u001b[0m\u001b[0mreturns\u001b[0m\u001b[0;34m:\u001b[0m \u001b[0mThe\u001b[0m \u001b[0mdefault\u001b[0m \u001b[0mimage\u001b[0m \u001b[0;32mwith\u001b[0m \u001b[0mthe\u001b[0m \u001b[0mcam\u001b[0m \u001b[0moverlay\u001b[0m\u001b[0;34m.\u001b[0m\u001b[0;34m\u001b[0m\u001b[0;34m\u001b[0m\u001b[0m\n\u001b[1;32m     37\u001b[0m     \"\"\"\n\u001b[0;32m---> 38\u001b[0;31m     \u001b[0mheatmap\u001b[0m \u001b[0;34m=\u001b[0m \u001b[0mcv2\u001b[0m\u001b[0;34m.\u001b[0m\u001b[0mapplyColorMap\u001b[0m\u001b[0;34m(\u001b[0m\u001b[0mnp\u001b[0m\u001b[0;34m.\u001b[0m\u001b[0muint8\u001b[0m\u001b[0;34m(\u001b[0m\u001b[0;36m255\u001b[0m \u001b[0;34m*\u001b[0m \u001b[0mmask\u001b[0m\u001b[0;34m)\u001b[0m\u001b[0;34m,\u001b[0m \u001b[0mcolormap\u001b[0m\u001b[0;34m)\u001b[0m\u001b[0;34m\u001b[0m\u001b[0;34m\u001b[0m\u001b[0m\n\u001b[0m\u001b[1;32m     39\u001b[0m     \u001b[0;32mif\u001b[0m \u001b[0muse_rgb\u001b[0m\u001b[0;34m:\u001b[0m\u001b[0;34m\u001b[0m\u001b[0;34m\u001b[0m\u001b[0m\n\u001b[1;32m     40\u001b[0m         \u001b[0mheatmap\u001b[0m \u001b[0;34m=\u001b[0m \u001b[0mcv2\u001b[0m\u001b[0;34m.\u001b[0m\u001b[0mcvtColor\u001b[0m\u001b[0;34m(\u001b[0m\u001b[0mheatmap\u001b[0m\u001b[0;34m,\u001b[0m \u001b[0mcv2\u001b[0m\u001b[0;34m.\u001b[0m\u001b[0mCOLOR_BGR2RGB\u001b[0m\u001b[0;34m)\u001b[0m\u001b[0;34m\u001b[0m\u001b[0;34m\u001b[0m\u001b[0m\n",
      "\u001b[0;31merror\u001b[0m: OpenCV(4.5.4) /tmp/pip-req-build-kv0l0wqx/opencv/modules/imgproc/src/colormap.cpp:736: error: (-5:Bad argument) cv::ColorMap only supports source images of type CV_8UC1 or CV_8UC3 in function 'operator()'\n"
     ]
    }
   ],
   "source": [
    "vis_example(test_dataset[96], cam_1)"
   ]
  },
  {
   "cell_type": "code",
   "execution_count": 74,
   "id": "7aba0703",
   "metadata": {},
   "outputs": [
    {
     "data": {
      "image/png": "[encoded data removed]",
      "text/plain": [
       "<PIL.Image.Image image mode=RGB size=32x32 at 0x7FA4847695B0>"
      ]
     },
     "execution_count": 74,
     "metadata": {},
     "output_type": "execute_result"
    }
   ],
   "source": [
    "real_dataset[96][0]"
   ]
  },
  {
   "cell_type": "code",
   "execution_count": 52,
   "id": "10d5cf9d",
   "metadata": {},
   "outputs": [
    {
     "name": "stdout",
     "output_type": "stream",
     "text": [
      "Files already downloaded and verified\n"
     ]
    }
   ],
   "source": [
    "real_dataset = datasets.CIFAR100(\"../data\", train=False, download=True)"
   ]
  },
  {
   "cell_type": "code",
   "execution_count": 57,
   "id": "9d18d2f2",
   "metadata": {},
   "outputs": [
    {
     "data": {
      "text/plain": [
       "(32, 32)"
      ]
     },
     "execution_count": 57,
     "metadata": {},
     "output_type": "execute_result"
    }
   ],
   "source": [
    "real_dataset[0][0].size"
   ]
  },
  {
   "cell_type": "code",
   "execution_count": null,
   "id": "06c4244b",
   "metadata": {},
   "outputs": [],
   "source": []
  },
  {
   "cell_type": "code",
   "execution_count": null,
   "id": "33881e13",
   "metadata": {},
   "outputs": [],
   "source": []
  }
 ],
 "metadata": {
  "kernelspec": {
   "display_name": "Python 3 (ipykernel)",
   "language": "python",
   "name": "python3"
  },
  "language_info": {
   "codemirror_mode": {
    "name": "ipython",
    "version": 3
   },
   "file_extension": ".py",
   "mimetype": "text/x-python",
   "name": "python",
   "nbconvert_exporter": "python",
   "pygments_lexer": "ipython3",
   "version": "3.9.7"
  }
 },
 "nbformat": 4,
 "nbformat_minor": 5
}
